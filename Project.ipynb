{
 "cells": [
  {
   "cell_type": "markdown",
   "metadata": {},
   "source": [
    "![rmotr](https://user-images.githubusercontent.com/7065401/52071918-bda15380-2562-11e9-828c-7f95297e4a82.png)\n",
    "<hr style=\"margin-bottom: 40px;\">\n",
    "\n",
    "<img src=\"https://user-images.githubusercontent.com/7065401/68886973-eca24380-06f6-11ea-8327-3e9a22e22b43.png\"\n",
    "    style=\"width:400px; float: right; margin: 0 40px 40px 40px;\"></img>\n",
    "\n",
    "### Project\n",
    "\n",
    "# Health and Obesity trends\n",
    "\n",
    "Let's put in practice the topics covered in the course and analyze health and obesity trends."
   ]
  },
  {
   "cell_type": "markdown",
   "metadata": {},
   "source": [
    "![purple-divider](https://user-images.githubusercontent.com/7065401/52071927-c1cd7100-2562-11e9-908a-dde91ba14e59.png)\n",
    "\n",
    "## Hands on! "
   ]
  },
  {
   "cell_type": "code",
   "execution_count": 1,
   "metadata": {},
   "outputs": [],
   "source": [
    "import numpy as np\n",
    "import pandas as pd\n",
    "import sqlite3\n",
    "import requests\n",
    "\n",
    "%matplotlib inline"
   ]
  },
  {
   "cell_type": "markdown",
   "metadata": {},
   "source": [
    "![green-divider](https://user-images.githubusercontent.com/7065401/52071924-c003ad80-2562-11e9-8297-1c6595f8a7ff.png)\n",
    "\n",
    "### Read the dump of `USDA Food Composition Database` into a `food_df` DataFrame variable.\n",
    "\n",
    "The National Nutrient Database (NNDB) is provided by the [USDA](https://ndb.nal.usda.gov/ndb/) to allow the public to get standardized information on foods. They document the database and all supporting information on the USDA website.\n",
    "\n",
    "> Although the file format says \"txt\", we call these plain CSVs files and read it using `read_csv` method. Be aware of parsing correctly `NaN` values, data separator, encoding, quotechar and any other parsing option you think necessary.\n",
    "\n",
    "Here's a preview of that file:"
   ]
  },
  {
   "cell_type": "code",
   "execution_count": 2,
   "metadata": {},
   "outputs": [
    {
     "name": "stdout",
     "output_type": "stream",
     "text": [
      "~01001~^~0100~^~Butter, salted~^~BUTTER,WITH SALT~^^^~Y~^^0^^6.38^4.27^8.79^3.87\n",
      "~01002~^~0100~^~Butter, whipped, with salt~^~BUTTER,WHIPPED,W/ SALT~^^^~Y~^^0^^6.38^^^\n",
      "~01003~^~0100~^~Butter oil, anhydrous~^~BUTTER OIL,ANHYDROUS~^^^~Y~^^0^^6.38^4.27^8.79^3.87\n",
      "~01004~^~0100~^~Cheese, blue~^~CHEESE,BLUE~^^^~Y~^^0^^6.38^4.27^8.79^3.87\n",
      "~01005~^~0100~^~Cheese, brick~^~CHEESE,BRICK~^^^~Y~^^0^^6.38^4.27^8.79^3.87\n",
      "~01006~^~0100~^~Cheese, brie~^~CHEESE,BRIE~^^^~Y~^^0^^6.38^4.27^8.79^3.87\n",
      "~01007~^~0100~^~Cheese, camembert~^~CHEESE,CAMEMBERT~^^^~Y~^^0^^6.38^4.27^8.79^3.87\n",
      "~01008~^~0100~^~Cheese, caraway~^~CHEESE,CARAWAY~^^^^^0^^6.38^4.27^8.79^3.87\n",
      "~01009~^~0100~^~Cheese, cheddar (Includes foods for USDA's Food Distribution Program)~^~CHEESE,CHEDDAR~^^^~Y~^^0^^^^^\n",
      "~01010~^~0100~^~Cheese, cheshire~^~CHEESE,CHESHIRE~^^^^^0^^6.38^4.27^8.79^3.87\n"
     ]
    }
   ],
   "source": [
    "!head data/FOOD_DES.txt"
   ]
  },
  {
   "cell_type": "markdown",
   "metadata": {},
   "source": [
    "The column names are taken from the original documentation for this dataset.\n",
    "\n",
    "> Use the given column names while reading the data."
   ]
  },
  {
   "cell_type": "code",
   "execution_count": 3,
   "metadata": {},
   "outputs": [],
   "source": [
    "column_names = ['NDB_No', 'FdGrp_Cd', 'Long_Desc', 'Shrt_Desc', 'ComName',\n",
    "                'ManufacName', 'Survey', 'Ref_desc', 'Refuse', 'SciName',\n",
    "                'N_Factor', 'Pro_Factor', 'Fat_Factor', 'CHO_Factor']"
   ]
  },
  {
   "cell_type": "code",
   "execution_count": 4,
   "metadata": {},
   "outputs": [
    {
     "data": {
      "text/html": [
       "<div>\n",
       "<style scoped>\n",
       "    .dataframe tbody tr th:only-of-type {\n",
       "        vertical-align: middle;\n",
       "    }\n",
       "\n",
       "    .dataframe tbody tr th {\n",
       "        vertical-align: top;\n",
       "    }\n",
       "\n",
       "    .dataframe thead th {\n",
       "        text-align: right;\n",
       "    }\n",
       "</style>\n",
       "<table border=\"1\" class=\"dataframe\">\n",
       "  <thead>\n",
       "    <tr style=\"text-align: right;\">\n",
       "      <th></th>\n",
       "      <th>NDB_No</th>\n",
       "      <th>FdGrp_Cd</th>\n",
       "      <th>Long_Desc</th>\n",
       "      <th>Shrt_Desc</th>\n",
       "      <th>ComName</th>\n",
       "      <th>ManufacName</th>\n",
       "      <th>Survey</th>\n",
       "      <th>Ref_desc</th>\n",
       "      <th>Refuse</th>\n",
       "      <th>SciName</th>\n",
       "      <th>N_Factor</th>\n",
       "      <th>Pro_Factor</th>\n",
       "      <th>Fat_Factor</th>\n",
       "      <th>CHO_Factor</th>\n",
       "    </tr>\n",
       "  </thead>\n",
       "  <tbody>\n",
       "    <tr>\n",
       "      <th>0</th>\n",
       "      <td>1001</td>\n",
       "      <td>100</td>\n",
       "      <td>Butter, salted</td>\n",
       "      <td>BUTTER,WITH SALT</td>\n",
       "      <td>NaN</td>\n",
       "      <td>NaN</td>\n",
       "      <td>Y</td>\n",
       "      <td>NaN</td>\n",
       "      <td>0.0</td>\n",
       "      <td>NaN</td>\n",
       "      <td>6.38</td>\n",
       "      <td>4.27</td>\n",
       "      <td>8.79</td>\n",
       "      <td>3.87</td>\n",
       "    </tr>\n",
       "    <tr>\n",
       "      <th>1</th>\n",
       "      <td>1002</td>\n",
       "      <td>100</td>\n",
       "      <td>Butter, whipped, with salt</td>\n",
       "      <td>BUTTER,WHIPPED,W/ SALT</td>\n",
       "      <td>NaN</td>\n",
       "      <td>NaN</td>\n",
       "      <td>Y</td>\n",
       "      <td>NaN</td>\n",
       "      <td>0.0</td>\n",
       "      <td>NaN</td>\n",
       "      <td>6.38</td>\n",
       "      <td>NaN</td>\n",
       "      <td>NaN</td>\n",
       "      <td>NaN</td>\n",
       "    </tr>\n",
       "    <tr>\n",
       "      <th>2</th>\n",
       "      <td>1003</td>\n",
       "      <td>100</td>\n",
       "      <td>Butter oil, anhydrous</td>\n",
       "      <td>BUTTER OIL,ANHYDROUS</td>\n",
       "      <td>NaN</td>\n",
       "      <td>NaN</td>\n",
       "      <td>Y</td>\n",
       "      <td>NaN</td>\n",
       "      <td>0.0</td>\n",
       "      <td>NaN</td>\n",
       "      <td>6.38</td>\n",
       "      <td>4.27</td>\n",
       "      <td>8.79</td>\n",
       "      <td>3.87</td>\n",
       "    </tr>\n",
       "    <tr>\n",
       "      <th>3</th>\n",
       "      <td>1004</td>\n",
       "      <td>100</td>\n",
       "      <td>Cheese, blue</td>\n",
       "      <td>CHEESE,BLUE</td>\n",
       "      <td>NaN</td>\n",
       "      <td>NaN</td>\n",
       "      <td>Y</td>\n",
       "      <td>NaN</td>\n",
       "      <td>0.0</td>\n",
       "      <td>NaN</td>\n",
       "      <td>6.38</td>\n",
       "      <td>4.27</td>\n",
       "      <td>8.79</td>\n",
       "      <td>3.87</td>\n",
       "    </tr>\n",
       "    <tr>\n",
       "      <th>4</th>\n",
       "      <td>1005</td>\n",
       "      <td>100</td>\n",
       "      <td>Cheese, brick</td>\n",
       "      <td>CHEESE,BRICK</td>\n",
       "      <td>NaN</td>\n",
       "      <td>NaN</td>\n",
       "      <td>Y</td>\n",
       "      <td>NaN</td>\n",
       "      <td>0.0</td>\n",
       "      <td>NaN</td>\n",
       "      <td>6.38</td>\n",
       "      <td>4.27</td>\n",
       "      <td>8.79</td>\n",
       "      <td>3.87</td>\n",
       "    </tr>\n",
       "  </tbody>\n",
       "</table>\n",
       "</div>"
      ],
      "text/plain": [
       "   NDB_No  FdGrp_Cd                   Long_Desc               Shrt_Desc  \\\n",
       "0    1001       100              Butter, salted        BUTTER,WITH SALT   \n",
       "1    1002       100  Butter, whipped, with salt  BUTTER,WHIPPED,W/ SALT   \n",
       "2    1003       100       Butter oil, anhydrous    BUTTER OIL,ANHYDROUS   \n",
       "3    1004       100                Cheese, blue             CHEESE,BLUE   \n",
       "4    1005       100               Cheese, brick            CHEESE,BRICK   \n",
       "\n",
       "  ComName ManufacName Survey Ref_desc  Refuse SciName  N_Factor  Pro_Factor  \\\n",
       "0     NaN         NaN      Y      NaN     0.0     NaN      6.38        4.27   \n",
       "1     NaN         NaN      Y      NaN     0.0     NaN      6.38         NaN   \n",
       "2     NaN         NaN      Y      NaN     0.0     NaN      6.38        4.27   \n",
       "3     NaN         NaN      Y      NaN     0.0     NaN      6.38        4.27   \n",
       "4     NaN         NaN      Y      NaN     0.0     NaN      6.38        4.27   \n",
       "\n",
       "   Fat_Factor  CHO_Factor  \n",
       "0        8.79        3.87  \n",
       "1         NaN         NaN  \n",
       "2        8.79        3.87  \n",
       "3        8.79        3.87  \n",
       "4        8.79        3.87  "
      ]
     },
     "execution_count": 4,
     "metadata": {},
     "output_type": "execute_result"
    }
   ],
   "source": [
    "food_df = pd.read_csv(\n",
    "    'data\\FOOD_DES.txt', \n",
    "    names = column_names, \n",
    "    delimiter= '^', \n",
    "    quotechar='~')\n",
    "food_df.head(5)"
   ]
  },
  {
   "cell_type": "code",
   "execution_count": 5,
   "metadata": {},
   "outputs": [
    {
     "name": "stdout",
     "output_type": "stream",
     "text": [
      "<class 'pandas.core.frame.DataFrame'>\n",
      "RangeIndex: 2429 entries, 0 to 2428\n",
      "Data columns (total 14 columns):\n",
      " #   Column       Non-Null Count  Dtype  \n",
      "---  ------       --------------  -----  \n",
      " 0   NDB_No       2429 non-null   int64  \n",
      " 1   FdGrp_Cd     2429 non-null   int64  \n",
      " 2   Long_Desc    2429 non-null   object \n",
      " 3   Shrt_Desc    2429 non-null   object \n",
      " 4   ComName      85 non-null     object \n",
      " 5   ManufacName  338 non-null    object \n",
      " 6   Survey       1294 non-null   object \n",
      " 7   Ref_desc     626 non-null    object \n",
      " 8   Refuse       2427 non-null   float64\n",
      " 9   SciName      212 non-null    object \n",
      " 10  N_Factor     1801 non-null   float64\n",
      " 11  Pro_Factor   1489 non-null   float64\n",
      " 12  Fat_Factor   1581 non-null   float64\n",
      " 13  CHO_Factor   1478 non-null   float64\n",
      "dtypes: float64(5), int64(2), object(7)\n",
      "memory usage: 265.8+ KB\n"
     ]
    }
   ],
   "source": [
    "food_df.info()"
   ]
  },
  {
   "cell_type": "markdown",
   "metadata": {},
   "source": [
    "How many products do we have?"
   ]
  },
  {
   "cell_type": "code",
   "execution_count": 6,
   "metadata": {},
   "outputs": [
    {
     "data": {
      "text/plain": [
       "2429"
      ]
     },
     "execution_count": 6,
     "metadata": {},
     "output_type": "execute_result"
    }
   ],
   "source": [
    "food_df.shape[0]"
   ]
  },
  {
   "cell_type": "markdown",
   "metadata": {},
   "source": [
    "![green-divider](https://user-images.githubusercontent.com/7065401/52071924-c003ad80-2562-11e9-8297-1c6595f8a7ff.png)\n",
    "\n",
    "### Variables distribution\n",
    "\n",
    "Analyze how values are distributed:\n",
    "\n",
    "- Create an histogram of `Refuse` variable.\n",
    "- Create a boxplot of `N_Factor` variable."
   ]
  },
  {
   "cell_type": "code",
   "execution_count": 7,
   "metadata": {},
   "outputs": [
    {
     "data": {
      "text/plain": [
       "array([[<Axes: title={'center': 'Refuse'}>]], dtype=object)"
      ]
     },
     "execution_count": 7,
     "metadata": {},
     "output_type": "execute_result"
    },
    {
     "data": {
      "image/png": "[encoded data removed]",
      "text/plain": [
       "<Figure size 640x480 with 1 Axes>"
      ]
     },
     "metadata": {},
     "output_type": "display_data"
    }
   ],
   "source": [
    "food_df.hist(column='Refuse')"
   ]
  },
  {
   "cell_type": "code",
   "execution_count": 8,
   "metadata": {},
   "outputs": [
    {
     "data": {
      "text/plain": [
       "<Axes: >"
      ]
     },
     "execution_count": 8,
     "metadata": {},
     "output_type": "execute_result"
    },
    {
     "data": {
      "image/png": "[encoded data removed]",
      "text/plain": [
       "<Figure size 640x480 with 1 Axes>"
      ]
     },
     "metadata": {},
     "output_type": "display_data"
    }
   ],
   "source": [
    "food_df.boxplot(column='N_Factor')"
   ]
  },
  {
   "cell_type": "markdown",
   "metadata": {},
   "source": [
    "![green-divider](https://user-images.githubusercontent.com/7065401/52071924-c003ad80-2562-11e9-8297-1c6595f8a7ff.png)\n",
    "\n",
    "### Which are the top-10 food manufacturers with more products on `food_df`."
   ]
  },
  {
   "cell_type": "code",
   "execution_count": 9,
   "metadata": {},
   "outputs": [
    {
     "data": {
      "text/plain": [
       "ManufacName\n",
       "The Quaker Oats, Co.    71\n",
       "MEAD JOHNSON            40\n",
       "MOM Brands              31\n",
       "ABBOT NUTRTION          26\n",
       "Post Foods, LLC         21\n",
       "Kraft Foods, Inc.       18\n",
       "Chobani                 17\n",
       "B&G Foods, Inc          13\n",
       "GERBER                  12\n",
       "Campbell Soup Co.       10\n",
       "dtype: int64"
      ]
     },
     "execution_count": 9,
     "metadata": {},
     "output_type": "execute_result"
    }
   ],
   "source": [
    "top_manufac = food_df.value_counts('ManufacName')[:10]\n",
    "top_manufac"
   ]
  },
  {
   "cell_type": "markdown",
   "metadata": {},
   "source": [
    "Also create a bar plot showing that results."
   ]
  },
  {
   "cell_type": "code",
   "execution_count": 10,
   "metadata": {},
   "outputs": [
    {
     "data": {
      "text/plain": [
       "<Axes: ylabel='ManufacName'>"
      ]
     },
     "execution_count": 10,
     "metadata": {},
     "output_type": "execute_result"
    },
    {
     "data": {
      "image/png": "[encoded data removed]",
      "text/plain": [
       "<Figure size 640x480 with 1 Axes>"
      ]
     },
     "metadata": {},
     "output_type": "display_data"
    }
   ],
   "source": [
    "top_manufac.plot.barh()"
   ]
  },
  {
   "cell_type": "markdown",
   "metadata": {},
   "source": [
    "![green-divider](https://user-images.githubusercontent.com/7065401/52071924-c003ad80-2562-11e9-8297-1c6595f8a7ff.png)\n",
    "\n",
    "## Analyzing Starbucks nutrition facts\n",
    "\n",
    "Starbucks is an American coffee chain founded in Seattle. It serves both beverages and food.\n",
    "\n",
    "<img width=\"650\" alt=\"Starbucks\" src=\"https://user-images.githubusercontent.com/7065401/68891327-57f01380-06ff-11ea-8461-eb35ba0c3bb0.png\">\n",
    "\n",
    "We'll analyze the nutritional information for Starbucks’ drink menu items using this [Nutrition facts for Starbucks drinks](https://www.kaggle.com/starbucks/starbucks) data. All nutritional information for drinks are for a 12oz serving size."
   ]
  },
  {
   "cell_type": "markdown",
   "metadata": {},
   "source": [
    "![green-divider](https://user-images.githubusercontent.com/7065401/52071924-c003ad80-2562-11e9-8297-1c6595f8a7ff.png)\n",
    "\n",
    "### Getting Starbucks' drinks information\n",
    "\n",
    "- Create an sqlite3 connection to the `starbucks.db` SQLite3 database.\n",
    "- Read from the `drinks` table just the items with more than 100 calories and save them to a `drinks_df` DataFrame variable."
   ]
  },
  {
   "cell_type": "code",
   "execution_count": 11,
   "metadata": {},
   "outputs": [],
   "source": [
    "conn = sqlite3.connect('data\\starbucks.db')"
   ]
  },
  {
   "cell_type": "markdown",
   "metadata": {},
   "source": [
    "![green-divider](https://user-images.githubusercontent.com/7065401/52071924-c003ad80-2562-11e9-8297-1c6595f8a7ff.png)\n",
    "\n",
    "### Which is the item with the highest calories?"
   ]
  },
  {
   "cell_type": "code",
   "execution_count": 12,
   "metadata": {},
   "outputs": [
    {
     "data": {
      "text/html": [
       "<div>\n",
       "<style scoped>\n",
       "    .dataframe tbody tr th:only-of-type {\n",
       "        vertical-align: middle;\n",
       "    }\n",
       "\n",
       "    .dataframe tbody tr th {\n",
       "        vertical-align: top;\n",
       "    }\n",
       "\n",
       "    .dataframe thead th {\n",
       "        text-align: right;\n",
       "    }\n",
       "</style>\n",
       "<table border=\"1\" class=\"dataframe\">\n",
       "  <thead>\n",
       "    <tr style=\"text-align: right;\">\n",
       "      <th></th>\n",
       "      <th>Item</th>\n",
       "      <th>Calories</th>\n",
       "      <th>Fat</th>\n",
       "      <th>Carb</th>\n",
       "      <th>Fiber</th>\n",
       "      <th>Protein</th>\n",
       "      <th>Sodium</th>\n",
       "    </tr>\n",
       "  </thead>\n",
       "  <tbody>\n",
       "    <tr>\n",
       "      <th>0</th>\n",
       "      <td>Evolution Fresh™ Organic Ginger Limeade</td>\n",
       "      <td>110.0</td>\n",
       "      <td>0.0</td>\n",
       "      <td>28.0</td>\n",
       "      <td>0.0</td>\n",
       "      <td>0.0</td>\n",
       "      <td>5.0</td>\n",
       "    </tr>\n",
       "    <tr>\n",
       "      <th>1</th>\n",
       "      <td>Iced Espresso Classics - Vanilla Latte</td>\n",
       "      <td>130.0</td>\n",
       "      <td>2.5</td>\n",
       "      <td>21.0</td>\n",
       "      <td>0.0</td>\n",
       "      <td>5.0</td>\n",
       "      <td>65.0</td>\n",
       "    </tr>\n",
       "    <tr>\n",
       "      <th>2</th>\n",
       "      <td>Iced Espresso Classics - Caffe Mocha</td>\n",
       "      <td>140.0</td>\n",
       "      <td>2.5</td>\n",
       "      <td>23.0</td>\n",
       "      <td>0.0</td>\n",
       "      <td>5.0</td>\n",
       "      <td>90.0</td>\n",
       "    </tr>\n",
       "    <tr>\n",
       "      <th>3</th>\n",
       "      <td>Iced Espresso Classics - Caramel Macchiato</td>\n",
       "      <td>130.0</td>\n",
       "      <td>2.5</td>\n",
       "      <td>21.0</td>\n",
       "      <td>0.0</td>\n",
       "      <td>5.0</td>\n",
       "      <td>65.0</td>\n",
       "    </tr>\n",
       "    <tr>\n",
       "      <th>4</th>\n",
       "      <td>Tazo® Bottled Black Mango</td>\n",
       "      <td>150.0</td>\n",
       "      <td>0.0</td>\n",
       "      <td>38.0</td>\n",
       "      <td>0.0</td>\n",
       "      <td>0.0</td>\n",
       "      <td>15.0</td>\n",
       "    </tr>\n",
       "  </tbody>\n",
       "</table>\n",
       "</div>"
      ],
      "text/plain": [
       "                                         Item  Calories  Fat  Carb  Fiber  \\\n",
       "0     Evolution Fresh™ Organic Ginger Limeade     110.0  0.0  28.0    0.0   \n",
       "1      Iced Espresso Classics - Vanilla Latte     130.0  2.5  21.0    0.0   \n",
       "2        Iced Espresso Classics - Caffe Mocha     140.0  2.5  23.0    0.0   \n",
       "3  Iced Espresso Classics - Caramel Macchiato     130.0  2.5  21.0    0.0   \n",
       "4                   Tazo® Bottled Black Mango     150.0  0.0  38.0    0.0   \n",
       "\n",
       "   Protein  Sodium  \n",
       "0      0.0     5.0  \n",
       "1      5.0    65.0  \n",
       "2      5.0    90.0  \n",
       "3      5.0    65.0  \n",
       "4      0.0    15.0  "
      ]
     },
     "execution_count": 12,
     "metadata": {},
     "output_type": "execute_result"
    }
   ],
   "source": [
    "drinks_df = pd.read_sql('SELECT * FROM drinks WHERE Calories > 100', conn)\n",
    "drinks_df.head()"
   ]
  },
  {
   "cell_type": "code",
   "execution_count": 13,
   "metadata": {},
   "outputs": [
    {
     "data": {
      "text/html": [
       "<div>\n",
       "<style scoped>\n",
       "    .dataframe tbody tr th:only-of-type {\n",
       "        vertical-align: middle;\n",
       "    }\n",
       "\n",
       "    .dataframe tbody tr th {\n",
       "        vertical-align: top;\n",
       "    }\n",
       "\n",
       "    .dataframe thead th {\n",
       "        text-align: right;\n",
       "    }\n",
       "</style>\n",
       "<table border=\"1\" class=\"dataframe\">\n",
       "  <thead>\n",
       "    <tr style=\"text-align: right;\">\n",
       "      <th></th>\n",
       "      <th>Item</th>\n",
       "      <th>Calories</th>\n",
       "      <th>Fat</th>\n",
       "      <th>Carb</th>\n",
       "      <th>Fiber</th>\n",
       "      <th>Protein</th>\n",
       "      <th>Sodium</th>\n",
       "    </tr>\n",
       "  </thead>\n",
       "  <tbody>\n",
       "    <tr>\n",
       "      <th>31</th>\n",
       "      <td>Starbucks® Signature Hot Chocolate</td>\n",
       "      <td>430.0</td>\n",
       "      <td>26.0</td>\n",
       "      <td>45.0</td>\n",
       "      <td>5.0</td>\n",
       "      <td>12.0</td>\n",
       "      <td>115.0</td>\n",
       "    </tr>\n",
       "  </tbody>\n",
       "</table>\n",
       "</div>"
      ],
      "text/plain": [
       "                                  Item  Calories   Fat  Carb  Fiber  Protein  \\\n",
       "31  Starbucks® Signature Hot Chocolate     430.0  26.0  45.0    5.0     12.0   \n",
       "\n",
       "    Sodium  \n",
       "31   115.0  "
      ]
     },
     "execution_count": 13,
     "metadata": {},
     "output_type": "execute_result"
    }
   ],
   "source": [
    "drinks_df.loc[drinks_df['Calories'] == drinks_df['Calories'].max()]"
   ]
  },
  {
   "cell_type": "markdown",
   "metadata": {},
   "source": [
    "![green-divider](https://user-images.githubusercontent.com/7065401/52071924-c003ad80-2562-11e9-8297-1c6595f8a7ff.png)\n",
    "\n",
    "### Create two groups of items: \"`less or equal 150 calories`\" and \"`more 150 calories`\""
   ]
  },
  {
   "cell_type": "code",
   "execution_count": 14,
   "metadata": {},
   "outputs": [
    {
     "data": {
      "text/html": [
       "<div>\n",
       "<style scoped>\n",
       "    .dataframe tbody tr th:only-of-type {\n",
       "        vertical-align: middle;\n",
       "    }\n",
       "\n",
       "    .dataframe tbody tr th {\n",
       "        vertical-align: top;\n",
       "    }\n",
       "\n",
       "    .dataframe thead th {\n",
       "        text-align: right;\n",
       "    }\n",
       "</style>\n",
       "<table border=\"1\" class=\"dataframe\">\n",
       "  <thead>\n",
       "    <tr style=\"text-align: right;\">\n",
       "      <th></th>\n",
       "      <th>Item</th>\n",
       "      <th>Calories</th>\n",
       "      <th>Fat</th>\n",
       "      <th>Carb</th>\n",
       "      <th>Fiber</th>\n",
       "      <th>Protein</th>\n",
       "      <th>Sodium</th>\n",
       "    </tr>\n",
       "  </thead>\n",
       "  <tbody>\n",
       "    <tr>\n",
       "      <th>0</th>\n",
       "      <td>Evolution Fresh™ Organic Ginger Limeade</td>\n",
       "      <td>110.0</td>\n",
       "      <td>0.0</td>\n",
       "      <td>28.0</td>\n",
       "      <td>0.0</td>\n",
       "      <td>0.0</td>\n",
       "      <td>5.0</td>\n",
       "    </tr>\n",
       "    <tr>\n",
       "      <th>1</th>\n",
       "      <td>Iced Espresso Classics - Vanilla Latte</td>\n",
       "      <td>130.0</td>\n",
       "      <td>2.5</td>\n",
       "      <td>21.0</td>\n",
       "      <td>0.0</td>\n",
       "      <td>5.0</td>\n",
       "      <td>65.0</td>\n",
       "    </tr>\n",
       "    <tr>\n",
       "      <th>2</th>\n",
       "      <td>Iced Espresso Classics - Caffe Mocha</td>\n",
       "      <td>140.0</td>\n",
       "      <td>2.5</td>\n",
       "      <td>23.0</td>\n",
       "      <td>0.0</td>\n",
       "      <td>5.0</td>\n",
       "      <td>90.0</td>\n",
       "    </tr>\n",
       "    <tr>\n",
       "      <th>3</th>\n",
       "      <td>Iced Espresso Classics - Caramel Macchiato</td>\n",
       "      <td>130.0</td>\n",
       "      <td>2.5</td>\n",
       "      <td>21.0</td>\n",
       "      <td>0.0</td>\n",
       "      <td>5.0</td>\n",
       "      <td>65.0</td>\n",
       "    </tr>\n",
       "    <tr>\n",
       "      <th>4</th>\n",
       "      <td>Tazo® Bottled Black Mango</td>\n",
       "      <td>150.0</td>\n",
       "      <td>0.0</td>\n",
       "      <td>38.0</td>\n",
       "      <td>0.0</td>\n",
       "      <td>0.0</td>\n",
       "      <td>15.0</td>\n",
       "    </tr>\n",
       "  </tbody>\n",
       "</table>\n",
       "</div>"
      ],
      "text/plain": [
       "                                         Item  Calories  Fat  Carb  Fiber  \\\n",
       "0     Evolution Fresh™ Organic Ginger Limeade     110.0  0.0  28.0    0.0   \n",
       "1      Iced Espresso Classics - Vanilla Latte     130.0  2.5  21.0    0.0   \n",
       "2        Iced Espresso Classics - Caffe Mocha     140.0  2.5  23.0    0.0   \n",
       "3  Iced Espresso Classics - Caramel Macchiato     130.0  2.5  21.0    0.0   \n",
       "4                   Tazo® Bottled Black Mango     150.0  0.0  38.0    0.0   \n",
       "\n",
       "   Protein  Sodium  \n",
       "0      0.0     5.0  \n",
       "1      5.0    65.0  \n",
       "2      5.0    90.0  \n",
       "3      5.0    65.0  \n",
       "4      0.0    15.0  "
      ]
     },
     "execution_count": 14,
     "metadata": {},
     "output_type": "execute_result"
    }
   ],
   "source": [
    "less_equal_150_cal = drinks_df[drinks_df['Calories'] <= 150]\n",
    "less_equal_150_cal.head()"
   ]
  },
  {
   "cell_type": "code",
   "execution_count": 15,
   "metadata": {},
   "outputs": [
    {
     "data": {
      "text/html": [
       "<div>\n",
       "<style scoped>\n",
       "    .dataframe tbody tr th:only-of-type {\n",
       "        vertical-align: middle;\n",
       "    }\n",
       "\n",
       "    .dataframe tbody tr th {\n",
       "        vertical-align: top;\n",
       "    }\n",
       "\n",
       "    .dataframe thead th {\n",
       "        text-align: right;\n",
       "    }\n",
       "</style>\n",
       "<table border=\"1\" class=\"dataframe\">\n",
       "  <thead>\n",
       "    <tr style=\"text-align: right;\">\n",
       "      <th></th>\n",
       "      <th>Item</th>\n",
       "      <th>Calories</th>\n",
       "      <th>Fat</th>\n",
       "      <th>Carb</th>\n",
       "      <th>Fiber</th>\n",
       "      <th>Protein</th>\n",
       "      <th>Sodium</th>\n",
       "    </tr>\n",
       "  </thead>\n",
       "  <tbody>\n",
       "    <tr>\n",
       "      <th>17</th>\n",
       "      <td>Starbucks® Doubleshot Protein Dark Chocolate</td>\n",
       "      <td>210.0</td>\n",
       "      <td>2.5</td>\n",
       "      <td>33.0</td>\n",
       "      <td>2.0</td>\n",
       "      <td>20.0</td>\n",
       "      <td>115.0</td>\n",
       "    </tr>\n",
       "    <tr>\n",
       "      <th>18</th>\n",
       "      <td>Starbucks® Doubleshot Protein Vanilla</td>\n",
       "      <td>200.0</td>\n",
       "      <td>2.5</td>\n",
       "      <td>34.0</td>\n",
       "      <td>2.0</td>\n",
       "      <td>20.0</td>\n",
       "      <td>120.0</td>\n",
       "    </tr>\n",
       "    <tr>\n",
       "      <th>30</th>\n",
       "      <td>Hot Chocolate</td>\n",
       "      <td>320.0</td>\n",
       "      <td>9.0</td>\n",
       "      <td>47.0</td>\n",
       "      <td>4.0</td>\n",
       "      <td>14.0</td>\n",
       "      <td>160.0</td>\n",
       "    </tr>\n",
       "    <tr>\n",
       "      <th>31</th>\n",
       "      <td>Starbucks® Signature Hot Chocolate</td>\n",
       "      <td>430.0</td>\n",
       "      <td>26.0</td>\n",
       "      <td>45.0</td>\n",
       "      <td>5.0</td>\n",
       "      <td>12.0</td>\n",
       "      <td>115.0</td>\n",
       "    </tr>\n",
       "    <tr>\n",
       "      <th>32</th>\n",
       "      <td>Caffè Latte</td>\n",
       "      <td>190.0</td>\n",
       "      <td>7.0</td>\n",
       "      <td>19.0</td>\n",
       "      <td>0.0</td>\n",
       "      <td>13.0</td>\n",
       "      <td>170.0</td>\n",
       "    </tr>\n",
       "  </tbody>\n",
       "</table>\n",
       "</div>"
      ],
      "text/plain": [
       "                                            Item  Calories   Fat  Carb  Fiber  \\\n",
       "17  Starbucks® Doubleshot Protein Dark Chocolate     210.0   2.5  33.0    2.0   \n",
       "18         Starbucks® Doubleshot Protein Vanilla     200.0   2.5  34.0    2.0   \n",
       "30                                 Hot Chocolate     320.0   9.0  47.0    4.0   \n",
       "31            Starbucks® Signature Hot Chocolate     430.0  26.0  45.0    5.0   \n",
       "32                                   Caffè Latte     190.0   7.0  19.0    0.0   \n",
       "\n",
       "    Protein  Sodium  \n",
       "17     20.0   115.0  \n",
       "18     20.0   120.0  \n",
       "30     14.0   160.0  \n",
       "31     12.0   115.0  \n",
       "32     13.0   170.0  "
      ]
     },
     "execution_count": 15,
     "metadata": {},
     "output_type": "execute_result"
    }
   ],
   "source": [
    "more_150_cal = drinks_df[drinks_df['Calories'] > 150]\n",
    "more_150_cal.head()"
   ]
  },
  {
   "cell_type": "markdown",
   "metadata": {},
   "source": [
    "![green-divider](https://user-images.githubusercontent.com/7065401/52071924-c003ad80-2562-11e9-8297-1c6595f8a7ff.png)\n",
    "\n",
    "### Compare item characteristics\n",
    "\n",
    "Create a `compare_groups()` function that compares a given field of both groups of data, `less_equal_150_cal` and `more_150_cal`, by showing two overlapped histograms.\n",
    "\n",
    "- You should use different colors per histogram. Also add a little bit of opacity (use `alpha=0.4`).\n",
    "- The function MUST check that the given field exists, and raise `ValueError` with a \"Field not found\" message otherwise.\n"
   ]
  },
  {
   "cell_type": "code",
   "execution_count": 16,
   "metadata": {},
   "outputs": [],
   "source": [
    "def compare_groups(field):\n",
    "    if field in drinks_df.columns:\n",
    "        less_equal_150_cal[field].hist(color = 'green', alpha = .4, grid=False)\n",
    "        more_150_cal[field].hist(color = 'red', alpha = .4, grid=False)\n",
    "    else:\n",
    "        raise ValueError(f'Field {field} not found')"
   ]
  },
  {
   "cell_type": "markdown",
   "metadata": {},
   "source": [
    "Validate your function showing a comparison of the `Calories` per group."
   ]
  },
  {
   "cell_type": "code",
   "execution_count": 17,
   "metadata": {},
   "outputs": [
    {
     "data": {
      "image/png": "[encoded data removed]",
      "text/plain": [
       "<Figure size 640x480 with 1 Axes>"
      ]
     },
     "metadata": {},
     "output_type": "display_data"
    }
   ],
   "source": [
    "compare_groups('Calories')"
   ]
  },
  {
   "cell_type": "markdown",
   "metadata": {},
   "source": [
    "Now answer: **Less Calories implies less Sodium?**"
   ]
  },
  {
   "cell_type": "code",
   "execution_count": 18,
   "metadata": {},
   "outputs": [
    {
     "data": {
      "image/png": "[encoded data removed]",
      "text/plain": [
       "<Figure size 640x480 with 1 Axes>"
      ]
     },
     "metadata": {},
     "output_type": "display_data"
    }
   ],
   "source": [
    "compare_groups('Sodium')"
   ]
  },
  {
   "cell_type": "markdown",
   "metadata": {},
   "source": [
    "**Less Calories implies less Carbs?**"
   ]
  },
  {
   "cell_type": "code",
   "execution_count": 19,
   "metadata": {},
   "outputs": [
    {
     "data": {
      "image/png": "[encoded data removed]",
      "text/plain": [
       "<Figure size 640x480 with 1 Axes>"
      ]
     },
     "metadata": {},
     "output_type": "display_data"
    }
   ],
   "source": [
    "compare_groups('Carb')"
   ]
  },
  {
   "cell_type": "markdown",
   "metadata": {},
   "source": [
    "**Less Calories implies less Proteins?**"
   ]
  },
  {
   "cell_type": "code",
   "execution_count": 20,
   "metadata": {},
   "outputs": [
    {
     "data": {
      "image/png": "[encoded data removed]",
      "text/plain": [
       "<Figure size 640x480 with 1 Axes>"
      ]
     },
     "metadata": {},
     "output_type": "display_data"
    }
   ],
   "source": [
    "compare_groups('Protein')"
   ]
  },
  {
   "cell_type": "markdown",
   "metadata": {},
   "source": [
    "![green-divider](https://user-images.githubusercontent.com/7065401/52071924-c003ad80-2562-11e9-8297-1c6595f8a7ff.png)\n",
    "\n",
    "## Healthy diet interest\n",
    "\n",
    "In order to measure interest on healthy diets, we'll analyze how many pageviews the article `Healthy diet` received during the last years.\n",
    "\n",
    "![Food-piramid](https://user-images.githubusercontent.com/7065401/68880286-bf02cd80-06e9-11ea-8d42-ff6dbb539f7d.png)\n",
    "\n",
    "To get pageviews from Wikipedia, we'll need to use the _Analytics API_. Here you can find [the documentation](https://wikitech.wikimedia.org/wiki/Analytics/AQS/Pageviews) to get pageviews from an article.\n",
    "\n",
    "To get monthly pageviews for a given article, you can use the following endpoint:\n",
    "\n",
    "```\n",
    "https://wikimedia.org/api/rest_v1/metrics/pageviews/per-article/en.wikipedia/all-access/all-agents/{ARTICLE}/monthly/{START}/{END}\n",
    "```"
   ]
  },
  {
   "cell_type": "markdown",
   "metadata": {},
   "source": [
    "![green-divider](https://user-images.githubusercontent.com/7065401/52071924-c003ad80-2562-11e9-8297-1c6595f8a7ff.png)\n",
    "\n",
    "### Get data from Wikipedia using its API\n",
    "\n",
    "Make a request to Wikipedia API to get monthly page views for `Healthy_diet` article from year 2015 (`2015010100`) to 2019 (`2019100100`).\n",
    "\n",
    "Store the response in a `pageviews_df` DataFrame variable."
   ]
  },
  {
   "cell_type": "code",
   "execution_count": 21,
   "metadata": {},
   "outputs": [],
   "source": [
    "url = \"https://wikimedia.org/api/rest_v1/metrics/pageviews/per-article/en.wikipedia.org/all-access/all-agents/Healthy_diet/monthly/2015010100/2019100100\"\n",
    "headers = {\n",
    "    'User-Agent': 'Mozilla/5.0 (Windows NT 10.0; Win64; x64) AppleWebKit/537.36 (KHTML, like Gecko) Chrome/92.0.4515.159 Safari/537.36'\n",
    "}"
   ]
  },
  {
   "cell_type": "code",
   "execution_count": 22,
   "metadata": {},
   "outputs": [
    {
     "data": {
      "text/html": [
       "<div>\n",
       "<style scoped>\n",
       "    .dataframe tbody tr th:only-of-type {\n",
       "        vertical-align: middle;\n",
       "    }\n",
       "\n",
       "    .dataframe tbody tr th {\n",
       "        vertical-align: top;\n",
       "    }\n",
       "\n",
       "    .dataframe thead th {\n",
       "        text-align: right;\n",
       "    }\n",
       "</style>\n",
       "<table border=\"1\" class=\"dataframe\">\n",
       "  <thead>\n",
       "    <tr style=\"text-align: right;\">\n",
       "      <th></th>\n",
       "      <th>project</th>\n",
       "      <th>article</th>\n",
       "      <th>granularity</th>\n",
       "      <th>timestamp</th>\n",
       "      <th>access</th>\n",
       "      <th>agent</th>\n",
       "      <th>views</th>\n",
       "    </tr>\n",
       "  </thead>\n",
       "  <tbody>\n",
       "    <tr>\n",
       "      <th>0</th>\n",
       "      <td>en.wikipedia</td>\n",
       "      <td>Healthy_diet</td>\n",
       "      <td>monthly</td>\n",
       "      <td>2015070100</td>\n",
       "      <td>all-access</td>\n",
       "      <td>all-agents</td>\n",
       "      <td>24293</td>\n",
       "    </tr>\n",
       "    <tr>\n",
       "      <th>1</th>\n",
       "      <td>en.wikipedia</td>\n",
       "      <td>Healthy_diet</td>\n",
       "      <td>monthly</td>\n",
       "      <td>2015080100</td>\n",
       "      <td>all-access</td>\n",
       "      <td>all-agents</td>\n",
       "      <td>41794</td>\n",
       "    </tr>\n",
       "    <tr>\n",
       "      <th>2</th>\n",
       "      <td>en.wikipedia</td>\n",
       "      <td>Healthy_diet</td>\n",
       "      <td>monthly</td>\n",
       "      <td>2015090100</td>\n",
       "      <td>all-access</td>\n",
       "      <td>all-agents</td>\n",
       "      <td>23606</td>\n",
       "    </tr>\n",
       "    <tr>\n",
       "      <th>3</th>\n",
       "      <td>en.wikipedia</td>\n",
       "      <td>Healthy_diet</td>\n",
       "      <td>monthly</td>\n",
       "      <td>2015100100</td>\n",
       "      <td>all-access</td>\n",
       "      <td>all-agents</td>\n",
       "      <td>26351</td>\n",
       "    </tr>\n",
       "    <tr>\n",
       "      <th>4</th>\n",
       "      <td>en.wikipedia</td>\n",
       "      <td>Healthy_diet</td>\n",
       "      <td>monthly</td>\n",
       "      <td>2015110100</td>\n",
       "      <td>all-access</td>\n",
       "      <td>all-agents</td>\n",
       "      <td>24596</td>\n",
       "    </tr>\n",
       "  </tbody>\n",
       "</table>\n",
       "</div>"
      ],
      "text/plain": [
       "        project       article granularity   timestamp      access       agent  \\\n",
       "0  en.wikipedia  Healthy_diet     monthly  2015070100  all-access  all-agents   \n",
       "1  en.wikipedia  Healthy_diet     monthly  2015080100  all-access  all-agents   \n",
       "2  en.wikipedia  Healthy_diet     monthly  2015090100  all-access  all-agents   \n",
       "3  en.wikipedia  Healthy_diet     monthly  2015100100  all-access  all-agents   \n",
       "4  en.wikipedia  Healthy_diet     monthly  2015110100  all-access  all-agents   \n",
       "\n",
       "   views  \n",
       "0  24293  \n",
       "1  41794  \n",
       "2  23606  \n",
       "3  26351  \n",
       "4  24596  "
      ]
     },
     "execution_count": 22,
     "metadata": {},
     "output_type": "execute_result"
    }
   ],
   "source": [
    "resp = requests.get(url, headers=headers)\n",
    "json_dict = resp.json()\n",
    "pageviews_df = pd.DataFrame.from_dict(json_dict['items'])\n",
    "pageviews_df.head()"
   ]
  },
  {
   "cell_type": "markdown",
   "metadata": {},
   "source": [
    "![green-divider](https://user-images.githubusercontent.com/7065401/52071924-c003ad80-2562-11e9-8297-1c6595f8a7ff.png)\n",
    "\n",
    "### When was the highest search peak?\n",
    "\n",
    "Save in a `max_pageviews_str` variable the date where `Healthy_diet` article had the highest volume of page views.\n",
    "\n",
    "Also save a `max_pageview_date` with that previous value parsed to `datetime`."
   ]
  },
  {
   "cell_type": "code",
   "execution_count": 23,
   "metadata": {},
   "outputs": [
    {
     "data": {
      "text/html": [
       "<div>\n",
       "<style scoped>\n",
       "    .dataframe tbody tr th:only-of-type {\n",
       "        vertical-align: middle;\n",
       "    }\n",
       "\n",
       "    .dataframe tbody tr th {\n",
       "        vertical-align: top;\n",
       "    }\n",
       "\n",
       "    .dataframe thead th {\n",
       "        text-align: right;\n",
       "    }\n",
       "</style>\n",
       "<table border=\"1\" class=\"dataframe\">\n",
       "  <thead>\n",
       "    <tr style=\"text-align: right;\">\n",
       "      <th></th>\n",
       "      <th>project</th>\n",
       "      <th>article</th>\n",
       "      <th>granularity</th>\n",
       "      <th>timestamp</th>\n",
       "      <th>access</th>\n",
       "      <th>agent</th>\n",
       "      <th>views</th>\n",
       "    </tr>\n",
       "  </thead>\n",
       "  <tbody>\n",
       "    <tr>\n",
       "      <th>24</th>\n",
       "      <td>en.wikipedia</td>\n",
       "      <td>Healthy_diet</td>\n",
       "      <td>monthly</td>\n",
       "      <td>2017070100</td>\n",
       "      <td>all-access</td>\n",
       "      <td>all-agents</td>\n",
       "      <td>56795</td>\n",
       "    </tr>\n",
       "  </tbody>\n",
       "</table>\n",
       "</div>"
      ],
      "text/plain": [
       "         project       article granularity   timestamp      access  \\\n",
       "24  en.wikipedia  Healthy_diet     monthly  2017070100  all-access   \n",
       "\n",
       "         agent  views  \n",
       "24  all-agents  56795  "
      ]
     },
     "execution_count": 23,
     "metadata": {},
     "output_type": "execute_result"
    }
   ],
   "source": [
    "max_pageviews_df = pageviews_df.loc[pageviews_df['views'] == pageviews_df['views'].max()]\n",
    "max_pageviews_df"
   ]
  },
  {
   "cell_type": "code",
   "execution_count": 24,
   "metadata": {},
   "outputs": [
    {
     "name": "stdout",
     "output_type": "stream",
     "text": [
      "2017070100\n",
      "2017-07-01 00:00:00\n"
     ]
    }
   ],
   "source": [
    "max_pageviews_str = max_pageviews_df['timestamp'].values[0]\n",
    "max_pageviews_date = pd.to_datetime(max_pageviews_str, format='%Y%m%d%H')\n",
    "print(max_pageviews_str)\n",
    "print(max_pageviews_date)"
   ]
  },
  {
   "cell_type": "markdown",
   "metadata": {},
   "source": [
    "We can draw a quick plot showing the evolution of `views` per month:"
   ]
  },
  {
   "cell_type": "code",
   "execution_count": 25,
   "metadata": {},
   "outputs": [
    {
     "data": {
      "image/png": "[encoded data removed]",
      "text/plain": [
       "<Figure size 1400x600 with 1 Axes>"
      ]
     },
     "metadata": {},
     "output_type": "display_data"
    }
   ],
   "source": [
    "import matplotlib.pyplot as plt\n",
    "\n",
    "plt.figure(figsize=(14, 6))\n",
    "plt.plot(pageviews_df['timestamp'], pageviews_df['views'])\n",
    "\n",
    "plt.axvline(x=max_pageviews_str, color='green')\n",
    "\n",
    "plt.xticks(rotation=90)\n",
    "plt.show()"
   ]
  },
  {
   "cell_type": "markdown",
   "metadata": {},
   "source": [
    "![green-divider](https://user-images.githubusercontent.com/7065401/52071924-c003ad80-2562-11e9-8297-1c6595f8a7ff.png)\n",
    "\n",
    "### Get more data from Wikipedia API\n",
    "\n",
    "Create a `get_pageviews_count()` function that receives a variable number **article names** as argument, and returns a dictionary with the sum of pageviews during 2018 for each of these article names.\n",
    "\n",
    "- The function MUST check that at least one parameter is found, and raise a `ValueError` otherwise.\n",
    "\n",
    "```\n",
    "https://wikimedia.org/api/rest_v1/metrics/pageviews/per-article/en.wikipedia/all-access/all-agents/{ARTICLE}/monthly/2018010100/2018123100\n",
    "```"
   ]
  },
  {
   "cell_type": "code",
   "execution_count": 26,
   "metadata": {},
   "outputs": [],
   "source": [
    "def get_pageviews_count(*args):\n",
    "    if not args:\n",
    "        raise ValueError(f'{args} not found')\n",
    "\n",
    "    base_url = 'https://wikimedia.org/api/rest_v1/metrics/pageviews/per-article/en.wikipedia/all-access/all-agents/{}/monthly/2018010100/2018123100'\n",
    "    headers = {\n",
    "        'User-Agent': 'Mozilla/5.0 (Windows NT 10.0; Win64; x64) AppleWebKit/537.36 (KHTML, like Gecko) Chrome/92.0.4515.159 Safari/537.36'\n",
    "    }\n",
    "    dict = {}\n",
    "\n",
    "    for article_name in args:    \n",
    "        url = base_url.format(article_name)   \n",
    "        resp = requests.get(url, headers=headers)   \n",
    "        json_dict = resp.json()\n",
    "        article_df = pd.DataFrame.from_dict(json_dict['items'])\n",
    "\n",
    "        dict[article_name] = article_df['views'].sum()\n",
    "    \n",
    "    return dict\n",
    "\n"
   ]
  },
  {
   "cell_type": "markdown",
   "metadata": {},
   "source": [
    "Calling `get_pageviews_count('Healthy_diet', 'Food', 'Obesity')` should return something like:\n",
    "\n",
    "```\n",
    "{'Healthy_diet': 478712, 'Food': 1125874, 'Obesity': 1092577}\n",
    "```"
   ]
  },
  {
   "cell_type": "code",
   "execution_count": 27,
   "metadata": {},
   "outputs": [
    {
     "data": {
      "text/plain": [
       "{'Healthy_diet': 478712, 'Food': 1125874, 'Obesity': 1092577}"
      ]
     },
     "execution_count": 27,
     "metadata": {},
     "output_type": "execute_result"
    }
   ],
   "source": [
    "get_pageviews_count('Healthy_diet', 'Food', 'Obesity')"
   ]
  },
  {
   "cell_type": "markdown",
   "metadata": {},
   "source": [
    "![green-divider](https://user-images.githubusercontent.com/7065401/52071924-c003ad80-2562-11e9-8297-1c6595f8a7ff.png)\n",
    "\n",
    "## Obesity trends in the USA\n",
    "\n",
    "Obesity in the United States is a major health issue, resulting in numerous diseases, specifically increased risk of certain types of cancer, coronary artery disease, type 2 diabetes, stroke, as well as significant increases in early mortality and economic costs.\n",
    "\n",
    "Let's analyze obesity trends on each state of the USA. To do that take a look at the _Obesity in the United States_ Wikipedia article where they analyze obesity revalence by state and territory.\n",
    "\n",
    "<img width=\"500\" alt=\"Obesity-trends\" src=\"https://user-images.githubusercontent.com/7065401/68873389-5a8e4100-06de-11ea-844c-5ec622af5caa.png\">"
   ]
  },
  {
   "cell_type": "code",
   "execution_count": 28,
   "metadata": {},
   "outputs": [],
   "source": [
    "url = 'https://en.wikipedia.org/wiki/Obesity_in_the_United_States'"
   ]
  },
  {
   "cell_type": "markdown",
   "metadata": {},
   "source": [
    "![green-divider](https://user-images.githubusercontent.com/7065401/52071924-c003ad80-2562-11e9-8297-1c6595f8a7ff.png)\n",
    "\n",
    "### Read the HTML table at the end of the article into a `obesity_df` DataFrame object.\n",
    "\n",
    "> Be aware of parsing correctly `NaN` values that appear as `—` characters.\n",
    "\n",
    "<img width=\"450\" alt=\"Obesity-table\" src=\"https://user-images.githubusercontent.com/7065401/68880373-e5286d80-06e9-11ea-9bd0-f59ffcf02341.png\">"
   ]
  },
  {
   "cell_type": "code",
   "execution_count": 29,
   "metadata": {},
   "outputs": [
    {
     "data": {
      "text/html": [
       "<div>\n",
       "<style scoped>\n",
       "    .dataframe tbody tr th:only-of-type {\n",
       "        vertical-align: middle;\n",
       "    }\n",
       "\n",
       "    .dataframe tbody tr th {\n",
       "        vertical-align: top;\n",
       "    }\n",
       "\n",
       "    .dataframe thead tr th {\n",
       "        text-align: left;\n",
       "    }\n",
       "</style>\n",
       "<table border=\"1\" class=\"dataframe\">\n",
       "  <thead>\n",
       "    <tr>\n",
       "      <th></th>\n",
       "      <th>States, district, &amp; territories</th>\n",
       "      <th>Obesityrank</th>\n",
       "      <th colspan=\"2\" halign=\"left\">Obese adults</th>\n",
       "      <th>Overweight(incl. obese)adults(mid-2000s)</th>\n",
       "      <th>Obese childrenand adolescents(mid-2000s)[96]</th>\n",
       "    </tr>\n",
       "    <tr>\n",
       "      <th></th>\n",
       "      <th>States, district, &amp; territories</th>\n",
       "      <th>Obesityrank</th>\n",
       "      <th>(mid-2000s)</th>\n",
       "      <th>(2020)[91][97]</th>\n",
       "      <th>Overweight(incl. obese)adults(mid-2000s)</th>\n",
       "      <th>Obese childrenand adolescents(mid-2000s)[96]</th>\n",
       "    </tr>\n",
       "  </thead>\n",
       "  <tbody>\n",
       "    <tr>\n",
       "      <th>0</th>\n",
       "      <td>Alabama</td>\n",
       "      <td>5.0</td>\n",
       "      <td>30.1%</td>\n",
       "      <td>36.3%</td>\n",
       "      <td>65.4%</td>\n",
       "      <td>16.7%</td>\n",
       "    </tr>\n",
       "    <tr>\n",
       "      <th>1</th>\n",
       "      <td>Alaska</td>\n",
       "      <td>9.0</td>\n",
       "      <td>27.3%</td>\n",
       "      <td>34.2%</td>\n",
       "      <td>64.5%</td>\n",
       "      <td>11.1%</td>\n",
       "    </tr>\n",
       "    <tr>\n",
       "      <th>2</th>\n",
       "      <td>American Samoa</td>\n",
       "      <td>NaN</td>\n",
       "      <td>NaN</td>\n",
       "      <td>75%[95]</td>\n",
       "      <td>95%[98]</td>\n",
       "      <td>35%[95][99]</td>\n",
       "    </tr>\n",
       "    <tr>\n",
       "      <th>3</th>\n",
       "      <td>Arizona</td>\n",
       "      <td>30.0</td>\n",
       "      <td>23.3%</td>\n",
       "      <td>29.5%</td>\n",
       "      <td>59.5%</td>\n",
       "      <td>12.2%</td>\n",
       "    </tr>\n",
       "    <tr>\n",
       "      <th>4</th>\n",
       "      <td>Arkansas</td>\n",
       "      <td>7.0</td>\n",
       "      <td>28.1%</td>\n",
       "      <td>35.0%</td>\n",
       "      <td>64.7%</td>\n",
       "      <td>16.4%</td>\n",
       "    </tr>\n",
       "  </tbody>\n",
       "</table>\n",
       "</div>"
      ],
      "text/plain": [
       "  States, district, & territories Obesityrank Obese adults                 \\\n",
       "  States, district, & territories Obesityrank  (mid-2000s) (2020)[91][97]   \n",
       "0                         Alabama         5.0        30.1%          36.3%   \n",
       "1                          Alaska         9.0        27.3%          34.2%   \n",
       "2                  American Samoa         NaN          NaN        75%[95]   \n",
       "3                         Arizona        30.0        23.3%          29.5%   \n",
       "4                        Arkansas         7.0        28.1%          35.0%   \n",
       "\n",
       "  Overweight(incl. obese)adults(mid-2000s)  \\\n",
       "  Overweight(incl. obese)adults(mid-2000s)   \n",
       "0                                    65.4%   \n",
       "1                                    64.5%   \n",
       "2                                  95%[98]   \n",
       "3                                    59.5%   \n",
       "4                                    64.7%   \n",
       "\n",
       "  Obese childrenand adolescents(mid-2000s)[96]  \n",
       "  Obese childrenand adolescents(mid-2000s)[96]  \n",
       "0                                        16.7%  \n",
       "1                                        11.1%  \n",
       "2                                  35%[95][99]  \n",
       "3                                        12.2%  \n",
       "4                                        16.4%  "
      ]
     },
     "execution_count": 29,
     "metadata": {},
     "output_type": "execute_result"
    }
   ],
   "source": [
    "obesity_tables = pd.read_html(url, na_values='—')\n",
    "obesity_df =obesity_tables[1]\n",
    "\n",
    "obesity_df.head()"
   ]
  },
  {
   "cell_type": "markdown",
   "metadata": {},
   "source": [
    "![green-divider](https://user-images.githubusercontent.com/7065401/52071924-c003ad80-2562-11e9-8297-1c6595f8a7ff.png)\n",
    "\n",
    "### Sort the states by _Obesity rank_ and get the 5 states at the top. Show name and obesity rank."
   ]
  },
  {
   "cell_type": "code",
   "execution_count": 30,
   "metadata": {},
   "outputs": [
    {
     "data": {
      "text/html": [
       "<div>\n",
       "<style scoped>\n",
       "    .dataframe tbody tr th:only-of-type {\n",
       "        vertical-align: middle;\n",
       "    }\n",
       "\n",
       "    .dataframe tbody tr th {\n",
       "        vertical-align: top;\n",
       "    }\n",
       "\n",
       "    .dataframe thead tr th {\n",
       "        text-align: left;\n",
       "    }\n",
       "</style>\n",
       "<table border=\"1\" class=\"dataframe\">\n",
       "  <thead>\n",
       "    <tr>\n",
       "      <th></th>\n",
       "      <th>States, district, &amp; territories</th>\n",
       "      <th>Obesityrank</th>\n",
       "      <th colspan=\"2\" halign=\"left\">Obese adults</th>\n",
       "      <th>Overweight(incl. obese)adults(mid-2000s)</th>\n",
       "      <th>Obese childrenand adolescents(mid-2000s)[96]</th>\n",
       "    </tr>\n",
       "    <tr>\n",
       "      <th></th>\n",
       "      <th>States, district, &amp; territories</th>\n",
       "      <th>Obesityrank</th>\n",
       "      <th>(mid-2000s)</th>\n",
       "      <th>(2020)[91][97]</th>\n",
       "      <th>Overweight(incl. obese)adults(mid-2000s)</th>\n",
       "      <th>Obese childrenand adolescents(mid-2000s)[96]</th>\n",
       "    </tr>\n",
       "  </thead>\n",
       "  <tbody>\n",
       "    <tr>\n",
       "      <th>53</th>\n",
       "      <td>West Virginia</td>\n",
       "      <td>1.0</td>\n",
       "      <td>30.6%</td>\n",
       "      <td>38.1%</td>\n",
       "      <td>66.8%</td>\n",
       "      <td>20.9%</td>\n",
       "    </tr>\n",
       "    <tr>\n",
       "      <th>26</th>\n",
       "      <td>Mississippi</td>\n",
       "      <td>2.0</td>\n",
       "      <td>34.4%</td>\n",
       "      <td>37.3%</td>\n",
       "      <td>67.4%</td>\n",
       "      <td>17.8%</td>\n",
       "    </tr>\n",
       "    <tr>\n",
       "      <th>39</th>\n",
       "      <td>Oklahoma</td>\n",
       "      <td>3.0</td>\n",
       "      <td>28.1%</td>\n",
       "      <td>36.5%</td>\n",
       "      <td>64.2%</td>\n",
       "      <td>15.4%</td>\n",
       "    </tr>\n",
       "    <tr>\n",
       "      <th>17</th>\n",
       "      <td>Iowa</td>\n",
       "      <td>4.0</td>\n",
       "      <td>26.3%</td>\n",
       "      <td>36.4%</td>\n",
       "      <td>63.4%</td>\n",
       "      <td>12.5%</td>\n",
       "    </tr>\n",
       "    <tr>\n",
       "      <th>0</th>\n",
       "      <td>Alabama</td>\n",
       "      <td>5.0</td>\n",
       "      <td>30.1%</td>\n",
       "      <td>36.3%</td>\n",
       "      <td>65.4%</td>\n",
       "      <td>16.7%</td>\n",
       "    </tr>\n",
       "  </tbody>\n",
       "</table>\n",
       "</div>"
      ],
      "text/plain": [
       "   States, district, & territories Obesityrank Obese adults                 \\\n",
       "   States, district, & territories Obesityrank  (mid-2000s) (2020)[91][97]   \n",
       "53                   West Virginia         1.0        30.6%          38.1%   \n",
       "26                     Mississippi         2.0        34.4%          37.3%   \n",
       "39                        Oklahoma         3.0        28.1%          36.5%   \n",
       "17                            Iowa         4.0        26.3%          36.4%   \n",
       "0                          Alabama         5.0        30.1%          36.3%   \n",
       "\n",
       "   Overweight(incl. obese)adults(mid-2000s)  \\\n",
       "   Overweight(incl. obese)adults(mid-2000s)   \n",
       "53                                    66.8%   \n",
       "26                                    67.4%   \n",
       "39                                    64.2%   \n",
       "17                                    63.4%   \n",
       "0                                     65.4%   \n",
       "\n",
       "   Obese childrenand adolescents(mid-2000s)[96]  \n",
       "   Obese childrenand adolescents(mid-2000s)[96]  \n",
       "53                                        20.9%  \n",
       "26                                        17.8%  \n",
       "39                                        15.4%  \n",
       "17                                        12.5%  \n",
       "0                                         16.7%  "
      ]
     },
     "execution_count": 30,
     "metadata": {},
     "output_type": "execute_result"
    }
   ],
   "source": [
    "top_5 = obesity_df.sort_values(('Obesityrank','Obesityrank')).iloc[:5]\n",
    "top_5"
   ]
  },
  {
   "cell_type": "markdown",
   "metadata": {},
   "source": [
    "![purple-divider](https://user-images.githubusercontent.com/7065401/52071927-c1cd7100-2562-11e9-908a-dde91ba14e59.png)"
   ]
  }
 ],
 "metadata": {
  "kernelspec": {
   "display_name": "Python 3",
   "language": "python",
   "name": "python3"
  },
  "language_info": {
   "codemirror_mode": {
    "name": "ipython",
    "version": 3
   },
   "file_extension": ".py",
   "mimetype": "text/x-python",
   "name": "python",
   "nbconvert_exporter": "python",
   "pygments_lexer": "ipython3",
   "version": "3.10.2"
  }
 },
 "nbformat": 4,
 "nbformat_minor": 2
}
